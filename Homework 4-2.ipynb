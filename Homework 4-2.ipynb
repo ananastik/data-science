{
 "cells": [
  {
   "cell_type": "code",
   "execution_count": 88,
   "id": "e29be3ff",
   "metadata": {},
   "outputs": [],
   "source": [
    "class Vehicle:\n",
    "    vehicle_type = None\n",
    "    max_speed = None\n",
    "    mileage = None\n",
    "    passenger = None\n",
    "    \n",
    "    def __init__(self,vehicle_type,max_speed,mileage,passenger):\n",
    "        self.vehicle_type = str (vehicle_type)\n",
    "        self.max_speed = float (max_speed)\n",
    "        self.mileage = int (mileage)\n",
    "        self.passenger = 1\n",
    "        \n",
    "    def description(self):\n",
    "        print('Vehicle type: ', self.vehicle_type, 'Maximum speed: ', self.max_speed, 'Mileage: ', self.mileage, 'Number of passengers: ', self.passenger)\n",
    "    \n",
    "    def rent_payment(self):\n",
    "        if self.vehicle_type == 'Bus'and self.passenger>10:\n",
    "            return 1.10*(self.passenger**2)\n",
    "        else:\n",
    "            return self.passenger**2\n",
    "    \n",
    "    def drive(self,increase):\n",
    "        self.mileage=self.mileage+increase\n",
    "        \n",
    "            "
   ]
  },
  {
   "cell_type": "code",
   "execution_count": 85,
   "id": "d72e6d31",
   "metadata": {},
   "outputs": [
    {
     "name": "stdout",
     "output_type": "stream",
     "text": [
      "Vehicle type:  Car Maximum speed:  200.0 Mileage:  300 Number of passengers:  1\n"
     ]
    }
   ],
   "source": [
    "car1 = Vehicle ('Car', 200, 300, 3)\n",
    "car1.description()"
   ]
  },
  {
   "cell_type": "code",
   "execution_count": 86,
   "id": "4da76dff",
   "metadata": {},
   "outputs": [
    {
     "name": "stdout",
     "output_type": "stream",
     "text": [
      "Vehicle type:  Bus Maximum speed:  200.0 Mileage:  300 Number of passengers:  12\n",
      "Vehicle type:  Car Maximum speed:  100.0 Mileage:  200 Number of passengers:  20\n",
      "158.4\n",
      "400\n"
     ]
    }
   ],
   "source": [
    "class Bus(Vehicle):\n",
    "    \n",
    "    passenger=50\n",
    "    \n",
    "    def __init__(self,vehicle_type,max_speed,mileage,passenger):\n",
    "        super(Bus, self).__init__(vehicle_type,max_speed,mileage,passenger)\n",
    "        self.passenger = passenger\n",
    "        \n",
    "class Car(Vehicle):\n",
    "    \n",
    "    color = 'white'\n",
    "    \n",
    "    def __init__(self,vehicle_type,max_speed,mileage, passenger, color):\n",
    "        super(Car, self).__init__(vehicle_type,max_speed,mileage,passenger)\n",
    "        self.color = color\n",
    "        self.passenger = passenger\n",
    "        \n",
    "car2 = Bus('Bus', 200, 300, 12)\n",
    "car2.description()\n",
    "car3 = Car('Car',100,200, 20, 'white')\n",
    "car3.description()\n",
    "print (car2.rent_payment())\n",
    "print (car3.rent_payment())"
   ]
  },
  {
   "cell_type": "code",
   "execution_count": 87,
   "id": "ee869738",
   "metadata": {},
   "outputs": [
    {
     "name": "stdout",
     "output_type": "stream",
     "text": [
      "Vehicle type:  Bus Maximum speed:  200.0 Mileage:  310 Number of passengers:  12\n"
     ]
    }
   ],
   "source": [
    "car2.drive(10)\n",
    "car2.description()"
   ]
  },
  {
   "cell_type": "code",
   "execution_count": null,
   "id": "5f4fe5c0",
   "metadata": {},
   "outputs": [],
   "source": []
  }
 ],
 "metadata": {
  "kernelspec": {
   "display_name": "Python 3 (ipykernel)",
   "language": "python",
   "name": "python3"
  },
  "language_info": {
   "codemirror_mode": {
    "name": "ipython",
    "version": 3
   },
   "file_extension": ".py",
   "mimetype": "text/x-python",
   "name": "python",
   "nbconvert_exporter": "python",
   "pygments_lexer": "ipython3",
   "version": "3.11.4"
  }
 },
 "nbformat": 4,
 "nbformat_minor": 5
}
