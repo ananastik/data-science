{
 "cells": [
  {
   "cell_type": "code",
   "execution_count": 1,
   "id": "a895f849",
   "metadata": {},
   "outputs": [
    {
     "name": "stdout",
     "output_type": "stream",
     "text": [
      "/Users/anastasiiaholovachova/Downloads\n"
     ]
    }
   ],
   "source": [
    "cd Downloads"
   ]
  },
  {
   "cell_type": "code",
   "execution_count": 55,
   "id": "27e2a559",
   "metadata": {},
   "outputs": [],
   "source": [
    "import pandas as pd\n",
    "df=pd.read_excel('data-3.xls')"
   ]
  },
  {
   "cell_type": "code",
   "execution_count": 56,
   "id": "f59a3600",
   "metadata": {},
   "outputs": [
    {
     "data": {
      "text/html": [
       "<div>\n",
       "<style scoped>\n",
       "    .dataframe tbody tr th:only-of-type {\n",
       "        vertical-align: middle;\n",
       "    }\n",
       "\n",
       "    .dataframe tbody tr th {\n",
       "        vertical-align: top;\n",
       "    }\n",
       "\n",
       "    .dataframe thead th {\n",
       "        text-align: right;\n",
       "    }\n",
       "</style>\n",
       "<table border=\"1\" class=\"dataframe\">\n",
       "  <thead>\n",
       "    <tr style=\"text-align: right;\">\n",
       "      <th></th>\n",
       "      <th>sepal_length</th>\n",
       "      <th>sepal_width</th>\n",
       "      <th>petal_length</th>\n",
       "      <th>petal_width</th>\n",
       "    </tr>\n",
       "  </thead>\n",
       "  <tbody>\n",
       "    <tr>\n",
       "      <th>count</th>\n",
       "      <td>2415.000000</td>\n",
       "      <td>2415.000000</td>\n",
       "      <td>2415.000000</td>\n",
       "      <td>2415.000000</td>\n",
       "    </tr>\n",
       "    <tr>\n",
       "      <th>mean</th>\n",
       "      <td>6.470257</td>\n",
       "      <td>3.963540</td>\n",
       "      <td>4.616911</td>\n",
       "      <td>2.189752</td>\n",
       "    </tr>\n",
       "    <tr>\n",
       "      <th>std</th>\n",
       "      <td>2.140522</td>\n",
       "      <td>1.022686</td>\n",
       "      <td>1.987028</td>\n",
       "      <td>1.046936</td>\n",
       "    </tr>\n",
       "    <tr>\n",
       "      <th>min</th>\n",
       "      <td>-10.000000</td>\n",
       "      <td>0.000000</td>\n",
       "      <td>0.000000</td>\n",
       "      <td>0.000000</td>\n",
       "    </tr>\n",
       "    <tr>\n",
       "      <th>25%</th>\n",
       "      <td>5.950000</td>\n",
       "      <td>3.450000</td>\n",
       "      <td>2.780000</td>\n",
       "      <td>1.460000</td>\n",
       "    </tr>\n",
       "    <tr>\n",
       "      <th>50%</th>\n",
       "      <td>6.700000</td>\n",
       "      <td>4.000000</td>\n",
       "      <td>5.090000</td>\n",
       "      <td>2.240000</td>\n",
       "    </tr>\n",
       "    <tr>\n",
       "      <th>75%</th>\n",
       "      <td>7.490000</td>\n",
       "      <td>4.580000</td>\n",
       "      <td>6.150000</td>\n",
       "      <td>2.940000</td>\n",
       "    </tr>\n",
       "    <tr>\n",
       "      <th>max</th>\n",
       "      <td>10.490000</td>\n",
       "      <td>7.470000</td>\n",
       "      <td>9.040000</td>\n",
       "      <td>5.440000</td>\n",
       "    </tr>\n",
       "  </tbody>\n",
       "</table>\n",
       "</div>"
      ],
      "text/plain": [
       "       sepal_length  sepal_width  petal_length  petal_width\n",
       "count   2415.000000  2415.000000   2415.000000  2415.000000\n",
       "mean       6.470257     3.963540      4.616911     2.189752\n",
       "std        2.140522     1.022686      1.987028     1.046936\n",
       "min      -10.000000     0.000000      0.000000     0.000000\n",
       "25%        5.950000     3.450000      2.780000     1.460000\n",
       "50%        6.700000     4.000000      5.090000     2.240000\n",
       "75%        7.490000     4.580000      6.150000     2.940000\n",
       "max       10.490000     7.470000      9.040000     5.440000"
      ]
     },
     "execution_count": 56,
     "metadata": {},
     "output_type": "execute_result"
    }
   ],
   "source": [
    "df.describe()"
   ]
  },
  {
   "cell_type": "code",
   "execution_count": 57,
   "id": "9bcf75bc",
   "metadata": {},
   "outputs": [
    {
     "data": {
      "text/plain": [
       "sepal_length    9\n",
       "sepal_width     9\n",
       "petal_length    9\n",
       "petal_width     9\n",
       "species         0\n",
       "dtype: int64"
      ]
     },
     "execution_count": 57,
     "metadata": {},
     "output_type": "execute_result"
    }
   ],
   "source": [
    "df.isnull().sum()"
   ]
  },
  {
   "cell_type": "code",
   "execution_count": 58,
   "id": "dfc024e2",
   "metadata": {},
   "outputs": [],
   "source": [
    "import numpy as np"
   ]
  },
  {
   "cell_type": "code",
   "execution_count": 59,
   "id": "b1eeb5c0",
   "metadata": {},
   "outputs": [
    {
     "name": "stdout",
     "output_type": "stream",
     "text": [
      "Requirement already satisfied: statistics in /Users/anastasiiaholovachova/anaconda3/lib/python3.11/site-packages (1.0.3.5)\n",
      "Requirement already satisfied: docutils>=0.3 in /Users/anastasiiaholovachova/anaconda3/lib/python3.11/site-packages (from statistics) (0.18.1)\n",
      "Note: you may need to restart the kernel to use updated packages.\n"
     ]
    }
   ],
   "source": [
    "pip install statistics"
   ]
  },
  {
   "cell_type": "code",
   "execution_count": 66,
   "id": "92e98932",
   "metadata": {},
   "outputs": [
    {
     "data": {
      "text/html": [
       "<div>\n",
       "<style scoped>\n",
       "    .dataframe tbody tr th:only-of-type {\n",
       "        vertical-align: middle;\n",
       "    }\n",
       "\n",
       "    .dataframe tbody tr th {\n",
       "        vertical-align: top;\n",
       "    }\n",
       "\n",
       "    .dataframe thead th {\n",
       "        text-align: right;\n",
       "    }\n",
       "</style>\n",
       "<table border=\"1\" class=\"dataframe\">\n",
       "  <thead>\n",
       "    <tr style=\"text-align: right;\">\n",
       "      <th></th>\n",
       "      <th>sepal_length</th>\n",
       "      <th>sepal_width</th>\n",
       "      <th>petal_length</th>\n",
       "      <th>petal_width</th>\n",
       "      <th>species</th>\n",
       "    </tr>\n",
       "  </thead>\n",
       "  <tbody>\n",
       "    <tr>\n",
       "      <th>0</th>\n",
       "      <td>6.40</td>\n",
       "      <td>2.70</td>\n",
       "      <td>5.30</td>\n",
       "      <td>1.90</td>\n",
       "      <td>Iris-virginica</td>\n",
       "    </tr>\n",
       "    <tr>\n",
       "      <th>1</th>\n",
       "      <td>7.38</td>\n",
       "      <td>4.04</td>\n",
       "      <td>5.15</td>\n",
       "      <td>2.37</td>\n",
       "      <td>Iris-versicolor</td>\n",
       "    </tr>\n",
       "    <tr>\n",
       "      <th>2</th>\n",
       "      <td>5.00</td>\n",
       "      <td>3.40</td>\n",
       "      <td>1.60</td>\n",
       "      <td>0.40</td>\n",
       "      <td>Iris-setosa</td>\n",
       "    </tr>\n",
       "    <tr>\n",
       "      <th>3</th>\n",
       "      <td>6.12</td>\n",
       "      <td>3.19</td>\n",
       "      <td>5.90</td>\n",
       "      <td>2.01</td>\n",
       "      <td>Iris-virginica</td>\n",
       "    </tr>\n",
       "    <tr>\n",
       "      <th>4</th>\n",
       "      <td>6.78</td>\n",
       "      <td>3.47</td>\n",
       "      <td>6.13</td>\n",
       "      <td>2.29</td>\n",
       "      <td>Iris-virginica</td>\n",
       "    </tr>\n",
       "    <tr>\n",
       "      <th>...</th>\n",
       "      <td>...</td>\n",
       "      <td>...</td>\n",
       "      <td>...</td>\n",
       "      <td>...</td>\n",
       "      <td>...</td>\n",
       "    </tr>\n",
       "    <tr>\n",
       "      <th>2419</th>\n",
       "      <td>6.11</td>\n",
       "      <td>5.08</td>\n",
       "      <td>3.15</td>\n",
       "      <td>2.22</td>\n",
       "      <td>Iris-setosa</td>\n",
       "    </tr>\n",
       "    <tr>\n",
       "      <th>2420</th>\n",
       "      <td>7.17</td>\n",
       "      <td>6.07</td>\n",
       "      <td>4.30</td>\n",
       "      <td>1.78</td>\n",
       "      <td>Iris-setosa</td>\n",
       "    </tr>\n",
       "    <tr>\n",
       "      <th>2421</th>\n",
       "      <td>6.48</td>\n",
       "      <td>4.98</td>\n",
       "      <td>4.12</td>\n",
       "      <td>3.03</td>\n",
       "      <td>Iris-setosa</td>\n",
       "    </tr>\n",
       "    <tr>\n",
       "      <th>2422</th>\n",
       "      <td>6.73</td>\n",
       "      <td>4.71</td>\n",
       "      <td>3.67</td>\n",
       "      <td>2.90</td>\n",
       "      <td>Iris-setosa</td>\n",
       "    </tr>\n",
       "    <tr>\n",
       "      <th>2423</th>\n",
       "      <td>NaN</td>\n",
       "      <td>NaN</td>\n",
       "      <td>NaN</td>\n",
       "      <td>NaN</td>\n",
       "      <td>Iris-virginica</td>\n",
       "    </tr>\n",
       "  </tbody>\n",
       "</table>\n",
       "<p>2424 rows × 5 columns</p>\n",
       "</div>"
      ],
      "text/plain": [
       "      sepal_length  sepal_width  petal_length  petal_width          species\n",
       "0             6.40         2.70          5.30         1.90   Iris-virginica\n",
       "1             7.38         4.04          5.15         2.37  Iris-versicolor\n",
       "2             5.00         3.40          1.60         0.40      Iris-setosa\n",
       "3             6.12         3.19          5.90         2.01   Iris-virginica\n",
       "4             6.78         3.47          6.13         2.29   Iris-virginica\n",
       "...            ...          ...           ...          ...              ...\n",
       "2419          6.11         5.08          3.15         2.22      Iris-setosa\n",
       "2420          7.17         6.07          4.30         1.78      Iris-setosa\n",
       "2421          6.48         4.98          4.12         3.03      Iris-setosa\n",
       "2422          6.73         4.71          3.67         2.90      Iris-setosa\n",
       "2423           NaN          NaN           NaN          NaN   Iris-virginica\n",
       "\n",
       "[2424 rows x 5 columns]"
      ]
     },
     "execution_count": 66,
     "metadata": {},
     "output_type": "execute_result"
    }
   ],
   "source": [
    "num = df._get_numeric_data()\n",
    "num[num < 0] = 0\n",
    "df"
   ]
  },
  {
   "cell_type": "code",
   "execution_count": 69,
   "id": "8d7b4122",
   "metadata": {},
   "outputs": [],
   "source": [
    "df.replace(0, np.nan, inplace=True)"
   ]
  },
  {
   "cell_type": "code",
   "execution_count": 70,
   "id": "eaa975d5",
   "metadata": {},
   "outputs": [],
   "source": [
    "df_setosa = df[df.species=='Iris-setosa']\n",
    "df_versicolor = df[df.species=='Iris-versicolor']\n",
    "df_virginica = df[df.species=='Iris-virginica']"
   ]
  },
  {
   "cell_type": "code",
   "execution_count": 71,
   "id": "9a27c930",
   "metadata": {},
   "outputs": [
    {
     "name": "stderr",
     "output_type": "stream",
     "text": [
      "/tmp/ipykernel_50913/1856541718.py:1: FutureWarning: The default value of numeric_only in DataFrame.mean is deprecated. In a future version, it will default to False. In addition, specifying 'numeric_only=None' is deprecated. Select only valid columns or specify the value of numeric_only to silence this warning.\n",
      "  df_setosa=df_setosa.fillna(df_setosa.mean(axis=0))\n",
      "/tmp/ipykernel_50913/1856541718.py:2: FutureWarning: The default value of numeric_only in DataFrame.mean is deprecated. In a future version, it will default to False. In addition, specifying 'numeric_only=None' is deprecated. Select only valid columns or specify the value of numeric_only to silence this warning.\n",
      "  df_versicolor=df_versicolor.fillna(df_versicolor.mean(axis=0))\n",
      "/tmp/ipykernel_50913/1856541718.py:3: FutureWarning: The default value of numeric_only in DataFrame.mean is deprecated. In a future version, it will default to False. In addition, specifying 'numeric_only=None' is deprecated. Select only valid columns or specify the value of numeric_only to silence this warning.\n",
      "  df_virginica=df_virginica.fillna(df_virginica.mean(axis=0))\n"
     ]
    }
   ],
   "source": [
    "df_setosa=df_setosa.fillna(df_setosa.mean(axis=0))\n",
    "df_versicolor=df_versicolor.fillna(df_versicolor.mean(axis=0))\n",
    "df_virginica=df_virginica.fillna(df_virginica.mean(axis=0))"
   ]
  },
  {
   "cell_type": "code",
   "execution_count": 74,
   "id": "ebfa285c",
   "metadata": {},
   "outputs": [
    {
     "name": "stderr",
     "output_type": "stream",
     "text": [
      "/tmp/ipykernel_50913/3153654166.py:1: FutureWarning: The default value of numeric_only in DataFrame.corr is deprecated. In a future version, it will default to False. Select only valid columns or specify the value of numeric_only to silence this warning.\n",
      "  df_setosa.corr()\n"
     ]
    },
    {
     "data": {
      "text/html": [
       "<div>\n",
       "<style scoped>\n",
       "    .dataframe tbody tr th:only-of-type {\n",
       "        vertical-align: middle;\n",
       "    }\n",
       "\n",
       "    .dataframe tbody tr th {\n",
       "        vertical-align: top;\n",
       "    }\n",
       "\n",
       "    .dataframe thead th {\n",
       "        text-align: right;\n",
       "    }\n",
       "</style>\n",
       "<table border=\"1\" class=\"dataframe\">\n",
       "  <thead>\n",
       "    <tr style=\"text-align: right;\">\n",
       "      <th></th>\n",
       "      <th>sepal_length</th>\n",
       "      <th>sepal_width</th>\n",
       "      <th>petal_length</th>\n",
       "      <th>petal_width</th>\n",
       "    </tr>\n",
       "  </thead>\n",
       "  <tbody>\n",
       "    <tr>\n",
       "      <th>sepal_length</th>\n",
       "      <td>1.000000</td>\n",
       "      <td>0.616713</td>\n",
       "      <td>0.567174</td>\n",
       "      <td>0.570209</td>\n",
       "    </tr>\n",
       "    <tr>\n",
       "      <th>sepal_width</th>\n",
       "      <td>0.616713</td>\n",
       "      <td>1.000000</td>\n",
       "      <td>0.600100</td>\n",
       "      <td>0.569667</td>\n",
       "    </tr>\n",
       "    <tr>\n",
       "      <th>petal_length</th>\n",
       "      <td>0.567174</td>\n",
       "      <td>0.600100</td>\n",
       "      <td>1.000000</td>\n",
       "      <td>0.636157</td>\n",
       "    </tr>\n",
       "    <tr>\n",
       "      <th>petal_width</th>\n",
       "      <td>0.570209</td>\n",
       "      <td>0.569667</td>\n",
       "      <td>0.636157</td>\n",
       "      <td>1.000000</td>\n",
       "    </tr>\n",
       "  </tbody>\n",
       "</table>\n",
       "</div>"
      ],
      "text/plain": [
       "              sepal_length  sepal_width  petal_length  petal_width\n",
       "sepal_length      1.000000     0.616713      0.567174     0.570209\n",
       "sepal_width       0.616713     1.000000      0.600100     0.569667\n",
       "petal_length      0.567174     0.600100      1.000000     0.636157\n",
       "petal_width       0.570209     0.569667      0.636157     1.000000"
      ]
     },
     "execution_count": 74,
     "metadata": {},
     "output_type": "execute_result"
    }
   ],
   "source": [
    "df_setosa.corr()"
   ]
  },
  {
   "cell_type": "code",
   "execution_count": 75,
   "id": "fc5ec333",
   "metadata": {},
   "outputs": [
    {
     "name": "stderr",
     "output_type": "stream",
     "text": [
      "/tmp/ipykernel_50913/3499186163.py:1: FutureWarning: The default value of numeric_only in DataFrame.corr is deprecated. In a future version, it will default to False. Select only valid columns or specify the value of numeric_only to silence this warning.\n",
      "  df_versicolor.corr()\n"
     ]
    },
    {
     "data": {
      "text/html": [
       "<div>\n",
       "<style scoped>\n",
       "    .dataframe tbody tr th:only-of-type {\n",
       "        vertical-align: middle;\n",
       "    }\n",
       "\n",
       "    .dataframe tbody tr th {\n",
       "        vertical-align: top;\n",
       "    }\n",
       "\n",
       "    .dataframe thead th {\n",
       "        text-align: right;\n",
       "    }\n",
       "</style>\n",
       "<table border=\"1\" class=\"dataframe\">\n",
       "  <thead>\n",
       "    <tr style=\"text-align: right;\">\n",
       "      <th></th>\n",
       "      <th>sepal_length</th>\n",
       "      <th>sepal_width</th>\n",
       "      <th>petal_length</th>\n",
       "      <th>petal_width</th>\n",
       "    </tr>\n",
       "  </thead>\n",
       "  <tbody>\n",
       "    <tr>\n",
       "      <th>sepal_length</th>\n",
       "      <td>1.000000</td>\n",
       "      <td>0.561827</td>\n",
       "      <td>0.633264</td>\n",
       "      <td>0.565970</td>\n",
       "    </tr>\n",
       "    <tr>\n",
       "      <th>sepal_width</th>\n",
       "      <td>0.561827</td>\n",
       "      <td>1.000000</td>\n",
       "      <td>0.562833</td>\n",
       "      <td>0.704460</td>\n",
       "    </tr>\n",
       "    <tr>\n",
       "      <th>petal_length</th>\n",
       "      <td>0.633264</td>\n",
       "      <td>0.562833</td>\n",
       "      <td>1.000000</td>\n",
       "      <td>0.598181</td>\n",
       "    </tr>\n",
       "    <tr>\n",
       "      <th>petal_width</th>\n",
       "      <td>0.565970</td>\n",
       "      <td>0.704460</td>\n",
       "      <td>0.598181</td>\n",
       "      <td>1.000000</td>\n",
       "    </tr>\n",
       "  </tbody>\n",
       "</table>\n",
       "</div>"
      ],
      "text/plain": [
       "              sepal_length  sepal_width  petal_length  petal_width\n",
       "sepal_length      1.000000     0.561827      0.633264     0.565970\n",
       "sepal_width       0.561827     1.000000      0.562833     0.704460\n",
       "petal_length      0.633264     0.562833      1.000000     0.598181\n",
       "petal_width       0.565970     0.704460      0.598181     1.000000"
      ]
     },
     "execution_count": 75,
     "metadata": {},
     "output_type": "execute_result"
    }
   ],
   "source": [
    "df_versicolor.corr()"
   ]
  },
  {
   "cell_type": "code",
   "execution_count": 76,
   "id": "0c647843",
   "metadata": {},
   "outputs": [
    {
     "name": "stderr",
     "output_type": "stream",
     "text": [
      "/tmp/ipykernel_50913/2501790437.py:1: FutureWarning: The default value of numeric_only in DataFrame.corr is deprecated. In a future version, it will default to False. Select only valid columns or specify the value of numeric_only to silence this warning.\n",
      "  df_virginica.corr()\n"
     ]
    },
    {
     "data": {
      "text/html": [
       "<div>\n",
       "<style scoped>\n",
       "    .dataframe tbody tr th:only-of-type {\n",
       "        vertical-align: middle;\n",
       "    }\n",
       "\n",
       "    .dataframe tbody tr th {\n",
       "        vertical-align: top;\n",
       "    }\n",
       "\n",
       "    .dataframe thead th {\n",
       "        text-align: right;\n",
       "    }\n",
       "</style>\n",
       "<table border=\"1\" class=\"dataframe\">\n",
       "  <thead>\n",
       "    <tr style=\"text-align: right;\">\n",
       "      <th></th>\n",
       "      <th>sepal_length</th>\n",
       "      <th>sepal_width</th>\n",
       "      <th>petal_length</th>\n",
       "      <th>petal_width</th>\n",
       "    </tr>\n",
       "  </thead>\n",
       "  <tbody>\n",
       "    <tr>\n",
       "      <th>sepal_length</th>\n",
       "      <td>1.000000</td>\n",
       "      <td>0.563561</td>\n",
       "      <td>0.678889</td>\n",
       "      <td>0.475042</td>\n",
       "    </tr>\n",
       "    <tr>\n",
       "      <th>sepal_width</th>\n",
       "      <td>0.563561</td>\n",
       "      <td>1.000000</td>\n",
       "      <td>0.521372</td>\n",
       "      <td>0.579982</td>\n",
       "    </tr>\n",
       "    <tr>\n",
       "      <th>petal_length</th>\n",
       "      <td>0.678889</td>\n",
       "      <td>0.521372</td>\n",
       "      <td>1.000000</td>\n",
       "      <td>0.465975</td>\n",
       "    </tr>\n",
       "    <tr>\n",
       "      <th>petal_width</th>\n",
       "      <td>0.475042</td>\n",
       "      <td>0.579982</td>\n",
       "      <td>0.465975</td>\n",
       "      <td>1.000000</td>\n",
       "    </tr>\n",
       "  </tbody>\n",
       "</table>\n",
       "</div>"
      ],
      "text/plain": [
       "              sepal_length  sepal_width  petal_length  petal_width\n",
       "sepal_length      1.000000     0.563561      0.678889     0.475042\n",
       "sepal_width       0.563561     1.000000      0.521372     0.579982\n",
       "petal_length      0.678889     0.521372      1.000000     0.465975\n",
       "petal_width       0.475042     0.579982      0.465975     1.000000"
      ]
     },
     "execution_count": 76,
     "metadata": {},
     "output_type": "execute_result"
    }
   ],
   "source": [
    "df_virginica.corr()"
   ]
  },
  {
   "cell_type": "code",
   "execution_count": 81,
   "id": "4bf3eaf3",
   "metadata": {},
   "outputs": [
    {
     "data": {
      "text/plain": [
       "<Axes: ylabel='Frequency'>"
      ]
     },
     "execution_count": 81,
     "metadata": {},
     "output_type": "execute_result"
    },
    {
     "data": {
      "image/png": "[encoded data removed]",
      "text/plain": [
       "<Figure size 640x480 with 1 Axes>"
      ]
     },
     "metadata": {},
     "output_type": "display_data"
    }
   ],
   "source": [
    "df_setosa['sepal_length'].plot.hist(bins=50,label='sepal_length')\n"
   ]
  },
  {
   "cell_type": "code",
   "execution_count": 86,
   "id": "2a49254c",
   "metadata": {},
   "outputs": [
    {
     "data": {
      "text/plain": [
       "<Axes: ylabel='Frequency'>"
      ]
     },
     "execution_count": 86,
     "metadata": {},
     "output_type": "execute_result"
    },
    {
     "data": {
      "image/png": "[encoded data removed]",
      "text/plain": [
       "<Figure size 640x480 with 1 Axes>"
      ]
     },
     "metadata": {},
     "output_type": "display_data"
    }
   ],
   "source": [
    "df_setosa['sepal_width'].plot.hist(bins=50,label='sepal_width')\n"
   ]
  },
  {
   "cell_type": "code",
   "execution_count": 82,
   "id": "f81629ce",
   "metadata": {},
   "outputs": [
    {
     "data": {
      "text/plain": [
       "<Axes: ylabel='Frequency'>"
      ]
     },
     "execution_count": 82,
     "metadata": {},
     "output_type": "execute_result"
    },
    {
     "data": {
      "image/png": "[encoded data removed]",
      "text/plain": [
       "<Figure size 640x480 with 1 Axes>"
      ]
     },
     "metadata": {},
     "output_type": "display_data"
    }
   ],
   "source": [
    "df_setosa['petal_length'].plot.hist(bins=50,label='petal_length')\n"
   ]
  },
  {
   "cell_type": "code",
   "execution_count": 85,
   "id": "b27501b4",
   "metadata": {},
   "outputs": [
    {
     "data": {
      "text/plain": [
       "<Axes: ylabel='Frequency'>"
      ]
     },
     "execution_count": 85,
     "metadata": {},
     "output_type": "execute_result"
    },
    {
     "data": {
      "image/png": "[encoded data removed]",
      "text/plain": [
       "<Figure size 640x480 with 1 Axes>"
      ]
     },
     "metadata": {},
     "output_type": "display_data"
    }
   ],
   "source": [
    "df_setosa['petal_width'].plot.hist(bins=50,label='petal_width')\n"
   ]
  },
  {
   "cell_type": "code",
   "execution_count": 87,
   "id": "371a8418",
   "metadata": {},
   "outputs": [
    {
     "data": {
      "text/plain": [
       "<Axes: ylabel='Frequency'>"
      ]
     },
     "execution_count": 87,
     "metadata": {},
     "output_type": "execute_result"
    },
    {
     "data": {
      "image/png": "[encoded data removed]",
      "text/plain": [
       "<Figure size 640x480 with 1 Axes>"
      ]
     },
     "metadata": {},
     "output_type": "display_data"
    }
   ],
   "source": [
    "df_versicolor['sepal_length'].plot.hist(bins=50,label='sepal_length')"
   ]
  },
  {
   "cell_type": "code",
   "execution_count": 88,
   "id": "bccd50b4",
   "metadata": {},
   "outputs": [
    {
     "data": {
      "text/plain": [
       "<Axes: ylabel='Frequency'>"
      ]
     },
     "execution_count": 88,
     "metadata": {},
     "output_type": "execute_result"
    },
    {
     "data": {
      "image/png": "[encoded data removed]",
      "text/plain": [
       "<Figure size 640x480 with 1 Axes>"
      ]
     },
     "metadata": {},
     "output_type": "display_data"
    }
   ],
   "source": [
    "df_versicolor['sepal_width'].plot.hist(bins=50,label='sepal_width')"
   ]
  },
  {
   "cell_type": "code",
   "execution_count": 89,
   "id": "7210b379",
   "metadata": {},
   "outputs": [
    {
     "data": {
      "text/plain": [
       "<Axes: ylabel='Frequency'>"
      ]
     },
     "execution_count": 89,
     "metadata": {},
     "output_type": "execute_result"
    },
    {
     "data": {
      "image/png": "[encoded data removed]",
      "text/plain": [
       "<Figure size 640x480 with 1 Axes>"
      ]
     },
     "metadata": {},
     "output_type": "display_data"
    }
   ],
   "source": [
    "df_versicolor['petal_length'].plot.hist(bins=50,label='petal_length')"
   ]
  },
  {
   "cell_type": "code",
   "execution_count": 90,
   "id": "39eaeb30",
   "metadata": {},
   "outputs": [
    {
     "data": {
      "text/plain": [
       "<Axes: ylabel='Frequency'>"
      ]
     },
     "execution_count": 90,
     "metadata": {},
     "output_type": "execute_result"
    },
    {
     "data": {
      "image/png": "[encoded data removed]",
      "text/plain": [
       "<Figure size 640x480 with 1 Axes>"
      ]
     },
     "metadata": {},
     "output_type": "display_data"
    }
   ],
   "source": [
    "df_versicolor['petal_width'].plot.hist(bins=50,label='petal_width')"
   ]
  },
  {
   "cell_type": "code",
   "execution_count": 91,
   "id": "84cd9df8",
   "metadata": {},
   "outputs": [
    {
     "data": {
      "text/plain": [
       "<Axes: ylabel='Frequency'>"
      ]
     },
     "execution_count": 91,
     "metadata": {},
     "output_type": "execute_result"
    },
    {
     "data": {
      "image/png": "[encoded data removed]",
      "text/plain": [
       "<Figure size 640x480 with 1 Axes>"
      ]
     },
     "metadata": {},
     "output_type": "display_data"
    }
   ],
   "source": [
    "df_virginica['sepal_length'].plot.hist(bins=50,label='sepal_length')"
   ]
  },
  {
   "cell_type": "code",
   "execution_count": 92,
   "id": "b6db80f8",
   "metadata": {},
   "outputs": [
    {
     "data": {
      "text/plain": [
       "<Axes: ylabel='Frequency'>"
      ]
     },
     "execution_count": 92,
     "metadata": {},
     "output_type": "execute_result"
    },
    {
     "data": {
      "image/png": "[encoded data removed]",
      "text/plain": [
       "<Figure size 640x480 with 1 Axes>"
      ]
     },
     "metadata": {},
     "output_type": "display_data"
    }
   ],
   "source": [
    "df_virginica['sepal_width'].plot.hist(bins=50,label='sepal_width')"
   ]
  },
  {
   "cell_type": "code",
   "execution_count": 93,
   "id": "44e67760",
   "metadata": {},
   "outputs": [
    {
     "data": {
      "text/plain": [
       "<Axes: ylabel='Frequency'>"
      ]
     },
     "execution_count": 93,
     "metadata": {},
     "output_type": "execute_result"
    },
    {
     "data": {
      "image/png": "[encoded data removed]",
      "text/plain": [
       "<Figure size 640x480 with 1 Axes>"
      ]
     },
     "metadata": {},
     "output_type": "display_data"
    }
   ],
   "source": [
    "df_virginica['petal_length'].plot.hist(bins=50,label='petal_length')"
   ]
  },
  {
   "cell_type": "code",
   "execution_count": 94,
   "id": "0909bea1",
   "metadata": {},
   "outputs": [
    {
     "data": {
      "text/plain": [
       "<Axes: ylabel='Frequency'>"
      ]
     },
     "execution_count": 94,
     "metadata": {},
     "output_type": "execute_result"
    },
    {
     "data": {
      "image/png": "[encoded data removed]",
      "text/plain": [
       "<Figure size 640x480 with 1 Axes>"
      ]
     },
     "metadata": {},
     "output_type": "display_data"
    }
   ],
   "source": [
    "df_virginica['petal_width'].plot.hist(bins=50,label='petal_width')"
   ]
  },
  {
   "cell_type": "code",
   "execution_count": 97,
   "id": "c3c25308",
   "metadata": {},
   "outputs": [
    {
     "data": {
      "text/plain": [
       "ShapiroResult(statistic=0.9875558018684387, pvalue=2.594616489659529e-06)"
      ]
     },
     "execution_count": 97,
     "metadata": {},
     "output_type": "execute_result"
    }
   ],
   "source": [
    "import scipy\n",
    "scipy.stats.shapiro(df_setosa['sepal_length'])"
   ]
  },
  {
   "cell_type": "code",
   "execution_count": 98,
   "id": "66f74ac2",
   "metadata": {},
   "outputs": [
    {
     "data": {
      "text/plain": [
       "ShapiroResult(statistic=0.9921100735664368, pvalue=0.00029197410913184285)"
      ]
     },
     "execution_count": 98,
     "metadata": {},
     "output_type": "execute_result"
    }
   ],
   "source": [
    "scipy.stats.shapiro(df_versicolor['sepal_length'])"
   ]
  },
  {
   "cell_type": "code",
   "execution_count": 99,
   "id": "69ef9509",
   "metadata": {},
   "outputs": [
    {
     "data": {
      "text/plain": [
       "ShapiroResult(statistic=0.9964055418968201, pvalue=0.0655236765742302)"
      ]
     },
     "execution_count": 99,
     "metadata": {},
     "output_type": "execute_result"
    }
   ],
   "source": [
    "scipy.stats.shapiro(df_virginica['sepal_length'])"
   ]
  },
  {
   "cell_type": "code",
   "execution_count": 100,
   "id": "cec1ee40",
   "metadata": {},
   "outputs": [
    {
     "data": {
      "text/plain": [
       "ShapiroResult(statistic=0.9892781376838684, pvalue=1.385707946610637e-05)"
      ]
     },
     "execution_count": 100,
     "metadata": {},
     "output_type": "execute_result"
    }
   ],
   "source": [
    "scipy.stats.shapiro(df_setosa['sepal_width'])\n"
   ]
  },
  {
   "cell_type": "code",
   "execution_count": 101,
   "id": "1df01f4e",
   "metadata": {},
   "outputs": [
    {
     "data": {
      "text/plain": [
       "ShapiroResult(statistic=0.9957714676856995, pvalue=0.02815742790699005)"
      ]
     },
     "execution_count": 101,
     "metadata": {},
     "output_type": "execute_result"
    }
   ],
   "source": [
    "scipy.stats.shapiro(df_versicolor['sepal_width'])"
   ]
  },
  {
   "cell_type": "code",
   "execution_count": 102,
   "id": "abf46a01",
   "metadata": {},
   "outputs": [
    {
     "data": {
      "text/plain": [
       "ShapiroResult(statistic=0.9864290356636047, pvalue=9.226528732142469e-07)"
      ]
     },
     "execution_count": 102,
     "metadata": {},
     "output_type": "execute_result"
    }
   ],
   "source": [
    "scipy.stats.shapiro(df_virginica['sepal_width'])"
   ]
  },
  {
   "cell_type": "code",
   "execution_count": 103,
   "id": "8cbc574a",
   "metadata": {},
   "outputs": [
    {
     "data": {
      "text/plain": [
       "ShapiroResult(statistic=0.9874020218849182, pvalue=2.246954863949213e-06)"
      ]
     },
     "execution_count": 103,
     "metadata": {},
     "output_type": "execute_result"
    }
   ],
   "source": [
    "scipy.stats.shapiro(df_setosa['petal_length'])\n"
   ]
  },
  {
   "cell_type": "code",
   "execution_count": 104,
   "id": "2363f900",
   "metadata": {},
   "outputs": [
    {
     "data": {
      "text/plain": [
       "ShapiroResult(statistic=0.9974256753921509, pvalue=0.2447945922613144)"
      ]
     },
     "execution_count": 104,
     "metadata": {},
     "output_type": "execute_result"
    }
   ],
   "source": [
    "scipy.stats.shapiro(df_versicolor['petal_length'])"
   ]
  },
  {
   "cell_type": "code",
   "execution_count": 105,
   "id": "e2192bb7",
   "metadata": {},
   "outputs": [
    {
     "data": {
      "text/plain": [
       "ShapiroResult(statistic=0.9918342232704163, pvalue=0.00021311223099473864)"
      ]
     },
     "execution_count": 105,
     "metadata": {},
     "output_type": "execute_result"
    }
   ],
   "source": [
    "scipy.stats.shapiro(df_virginica['petal_length'])"
   ]
  },
  {
   "cell_type": "code",
   "execution_count": 106,
   "id": "2175d1ce",
   "metadata": {},
   "outputs": [
    {
     "data": {
      "text/plain": [
       "ShapiroResult(statistic=0.9822933673858643, pvalue=2.941155052837985e-08)"
      ]
     },
     "execution_count": 106,
     "metadata": {},
     "output_type": "execute_result"
    }
   ],
   "source": [
    "scipy.stats.shapiro(df_setosa['petal_width'])"
   ]
  },
  {
   "cell_type": "code",
   "execution_count": 107,
   "id": "62a4a4e2",
   "metadata": {},
   "outputs": [
    {
     "data": {
      "text/plain": [
       "ShapiroResult(statistic=0.9868252873420715, pvalue=1.320350975220208e-06)"
      ]
     },
     "execution_count": 107,
     "metadata": {},
     "output_type": "execute_result"
    }
   ],
   "source": [
    "scipy.stats.shapiro(df_versicolor['petal_width'])"
   ]
  },
  {
   "cell_type": "code",
   "execution_count": 109,
   "id": "6ad6ae27",
   "metadata": {},
   "outputs": [
    {
     "data": {
      "text/plain": [
       "ShapiroResult(statistic=0.9917541146278381, pvalue=0.00019464717479422688)"
      ]
     },
     "execution_count": 109,
     "metadata": {},
     "output_type": "execute_result"
    }
   ],
   "source": [
    "scipy.stats.shapiro(df_virginica['petal_width'])"
   ]
  },
  {
   "cell_type": "code",
   "execution_count": null,
   "id": "8acfd455",
   "metadata": {},
   "outputs": [],
   "source": []
  }
 ],
 "metadata": {
  "kernelspec": {
   "display_name": "Python 3 (ipykernel)",
   "language": "python",
   "name": "python3"
  },
  "language_info": {
   "codemirror_mode": {
    "name": "ipython",
    "version": 3
   },
   "file_extension": ".py",
   "mimetype": "text/x-python",
   "name": "python",
   "nbconvert_exporter": "python",
   "pygments_lexer": "ipython3",
   "version": "3.11.4"
  }
 },
 "nbformat": 4,
 "nbformat_minor": 5
}
