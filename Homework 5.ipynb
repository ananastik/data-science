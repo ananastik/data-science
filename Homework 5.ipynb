{
 "cells": [
  {
   "cell_type": "code",
   "execution_count": 84,
   "id": "7686ec01",
   "metadata": {},
   "outputs": [
    {
     "name": "stdout",
     "output_type": "stream",
     "text": [
      "N= 16\n",
      "[1, 4, 9, 16, 25, 36, 49, 64, 81, 100, 121, 144, 169, 196, 225, 256]\n"
     ]
    }
   ],
   "source": [
    "source_list = []\n",
    "new_list = []\n",
    "N = int(input(\"N= \"))\n",
    "\n",
    "def create_list(N):\n",
    "    for item in range (1,N+1):\n",
    "        source_list.append(item)\n",
    "        new_list.append(item**2)\n",
    "    return new_list\n",
    "\n",
    "    \n",
    "print(create_list(N))"
   ]
  },
  {
   "cell_type": "code",
   "execution_count": 85,
   "id": "9f0fb6b7",
   "metadata": {},
   "outputs": [
    {
     "name": "stdout",
     "output_type": "stream",
     "text": [
      "[1, 4, 9, 16, 25, 36, 49, 64, 81, 100, 121, 144, 169, 196, 225, 256]\n"
     ]
    }
   ],
   "source": [
    "def create_list_2(item):\n",
    "    return item**2\n",
    "\n",
    "print(list(map(create_list_2, source_list)))"
   ]
  },
  {
   "cell_type": "code",
   "execution_count": 86,
   "id": "15bf54d4",
   "metadata": {},
   "outputs": [
    {
     "name": "stdout",
     "output_type": "stream",
     "text": [
      "[1, 4, 9, 16, 25, 36, 49, 64, 81, 100, 121, 144, 169, 196, 225, 256]\n"
     ]
    }
   ],
   "source": [
    "def create_list_2(item):\n",
    "    return item**2\n",
    "\n",
    "print(list(map(create_list_2, range(1,N+1))))"
   ]
  },
  {
   "cell_type": "code",
   "execution_count": 87,
   "id": "c4286e7c",
   "metadata": {},
   "outputs": [
    {
     "name": "stdout",
     "output_type": "stream",
     "text": [
      "[1, 4, 9, 16, 25, 36, 49, 64, 81, 100, 121, 144, 169, 196, 225, 256]\n"
     ]
    }
   ],
   "source": [
    "new_list=[item**2 for item in source_list]\n",
    "print(new_list)"
   ]
  },
  {
   "cell_type": "code",
   "execution_count": 88,
   "id": "d1af1e31",
   "metadata": {},
   "outputs": [
    {
     "name": "stdout",
     "output_type": "stream",
     "text": [
      "[1, 4, 9, 16, 25, 36, 49, 64, 81, 100, 121, 144, 169, 196, 225, 256]\n"
     ]
    }
   ],
   "source": [
    "new_list=[item**2 for item in range(1,N+1)]\n",
    "print(new_list)"
   ]
  },
  {
   "cell_type": "code",
   "execution_count": 89,
   "id": "8fe31d5a",
   "metadata": {},
   "outputs": [
    {
     "name": "stdout",
     "output_type": "stream",
     "text": [
      "[1, 4, 9, 16]\n"
     ]
    }
   ],
   "source": [
    "def create_square_list(N):\n",
    "    square_list=[]\n",
    "    for item in range (1,N+1):\n",
    "        if (item**0.5).is_integer():\n",
    "            square_list.append(item)\n",
    "    return square_list\n",
    "\n",
    "print(create_square_list(N))"
   ]
  },
  {
   "cell_type": "code",
   "execution_count": 90,
   "id": "4780627a",
   "metadata": {},
   "outputs": [
    {
     "name": "stdout",
     "output_type": "stream",
     "text": [
      "[1, 4, 9, 16]\n"
     ]
    }
   ],
   "source": [
    "def check_square(item):\n",
    "    if (item**0.5).is_integer():\n",
    "        return item\n",
    "\n",
    "print(list(filter(check_square,source_list)))"
   ]
  },
  {
   "cell_type": "code",
   "execution_count": 94,
   "id": "5f3106b0",
   "metadata": {},
   "outputs": [
    {
     "name": "stdout",
     "output_type": "stream",
     "text": [
      "true\n"
     ]
    }
   ],
   "source": [
    "result = lambda a,b : 'true' if (a<N<b) else 'false'\n",
    "print(result(15, 17))"
   ]
  },
  {
   "cell_type": "code",
   "execution_count": null,
   "id": "a934d50a",
   "metadata": {},
   "outputs": [],
   "source": []
  }
 ],
 "metadata": {
  "kernelspec": {
   "display_name": "Python 3 (ipykernel)",
   "language": "python",
   "name": "python3"
  },
  "language_info": {
   "codemirror_mode": {
    "name": "ipython",
    "version": 3
   },
   "file_extension": ".py",
   "mimetype": "text/x-python",
   "name": "python",
   "nbconvert_exporter": "python",
   "pygments_lexer": "ipython3",
   "version": "3.11.4"
  }
 },
 "nbformat": 4,
 "nbformat_minor": 5
}
